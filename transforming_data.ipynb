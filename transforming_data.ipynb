{
  "nbformat": 4,
  "nbformat_minor": 0,
  "metadata": {
    "colab": {
      "name": "transforming_data.ipynb",
      "provenance": [],
      "collapsed_sections": []
    },
    "kernelspec": {
      "name": "python3",
      "display_name": "Python 3"
    }
  },
  "cells": [
    {
      "cell_type": "markdown",
      "metadata": {
        "id": "XIUQdmGSC3ta",
        "colab_type": "text"
      },
      "source": [
        "####**Primeiros passos com o Pandas**\n",
        "\n",
        "---\n",
        "\n",
        "\n",
        "\n",
        "A primeira coisa que você precisa fazer quando vê uma nova base de dados é explorá-la e ver o que ela contém.\n",
        "\n",
        "Bons métodos para isso: \n",
        "`.head()`\n",
        "`.info()`\n",
        "`.shape`\n",
        "`.describe()`\n",
        "\n",
        "```\n",
        "# This is formatted as code\n",
        "```\n",
        "\n"
      ]
    },
    {
      "cell_type": "code",
      "metadata": {
        "id": "iK_xYuW9HixD",
        "colab_type": "code",
        "colab": {}
      },
      "source": [
        "import pandas as pd\n",
        "udemy = pd.read_csv(\"udemy_courses.csv\")"
      ],
      "execution_count": 0,
      "outputs": []
    },
    {
      "cell_type": "markdown",
      "metadata": {
        "id": "BCmn3WwXIdqI",
        "colab_type": "text"
      },
      "source": [
        "#### **Métodos básicos de exploração**\n",
        "\n",
        "---\n",
        "\n",
        "\n",
        "head, info, shape, describe, values e index"
      ]
    },
    {
      "cell_type": "code",
      "metadata": {
        "id": "NqzC9-JUC5HO",
        "colab_type": "code",
        "colab": {}
      },
      "source": [
        "udemy.head() #Exibe os 5 primeiros resultados do dataset"
      ],
      "execution_count": 0,
      "outputs": []
    },
    {
      "cell_type": "code",
      "metadata": {
        "id": "HkzBH8dXDsWM",
        "colab_type": "code",
        "colab": {}
      },
      "source": [
        "udemy.info() # Exibe todas as colunas e o tipo de dados"
      ],
      "execution_count": 0,
      "outputs": []
    },
    {
      "cell_type": "code",
      "metadata": {
        "id": "nFDB6RM6DtRX",
        "colab_type": "code",
        "colab": {}
      },
      "source": [
        "udemy.shape # Exibe a quantidade de linhas e colunas"
      ],
      "execution_count": 0,
      "outputs": []
    },
    {
      "cell_type": "code",
      "metadata": {
        "id": "UVFZ11amDvk0",
        "colab_type": "code",
        "colab": {}
      },
      "source": [
        "udemy.describe() # Exibe dados estatísticos básicos, como média, desvio padrão, mínimo e máximo"
      ],
      "execution_count": 0,
      "outputs": []
    },
    {
      "cell_type": "code",
      "metadata": {
        "id": "PppOpnBBDyWa",
        "colab_type": "code",
        "colab": {}
      },
      "source": [
        "udemy.values # Exibe o dataframe como um array 2d numpy"
      ],
      "execution_count": 0,
      "outputs": []
    },
    {
      "cell_type": "code",
      "metadata": {
        "id": "Afn6671PEcoz",
        "colab_type": "code",
        "colab": {}
      },
      "source": [
        "udemy.columns # Mostra as colunas do dataframe"
      ],
      "execution_count": 0,
      "outputs": []
    },
    {
      "cell_type": "code",
      "metadata": {
        "id": "g-4XlXwwEizr",
        "colab_type": "code",
        "colab": {}
      },
      "source": [
        "udemy.index # Não entendi muito bem"
      ],
      "execution_count": 0,
      "outputs": []
    },
    {
      "cell_type": "markdown",
      "metadata": {
        "id": "XdjSK4LgJK2B",
        "colab_type": "text"
      },
      "source": [
        "####**Ordenando colunas**\n",
        "\n",
        "\n",
        "\n",
        "\n",
        "\n",
        "\n",
        "---"
      ]
    },
    {
      "cell_type": "markdown",
      "metadata": {
        "id": "GQtxT5MHKFnU",
        "colab_type": "text"
      },
      "source": [
        "Ordenando por price: A ordenação é ascendente."
      ]
    },
    {
      "cell_type": "code",
      "metadata": {
        "id": "JiaD00uDJSJC",
        "colab_type": "code",
        "colab": {}
      },
      "source": [
        "sort = udemy.sort_values(\"price\")\n",
        "sort.head()"
      ],
      "execution_count": 0,
      "outputs": []
    },
    {
      "cell_type": "markdown",
      "metadata": {
        "id": "YXuzNtokKQ4N",
        "colab_type": "text"
      },
      "source": [
        "Também é possível ordenar usando várias colunas como parâmetro. Para isso, é preciso informar um array com as colunas, como pode ver abaixo:\n",
        "\n",
        "O curso gratuito com menos inscritos é um curso de baterias indianas."
      ]
    },
    {
      "cell_type": "code",
      "metadata": {
        "id": "7cCYMkaKKdjD",
        "colab_type": "code",
        "colab": {}
      },
      "source": [
        "sort = udemy.sort_values([\"price\", \"num_subscribers\"]) \n",
        "sort.head()"
      ],
      "execution_count": 0,
      "outputs": []
    },
    {
      "cell_type": "markdown",
      "metadata": {
        "id": "f1lsawlGLWqM",
        "colab_type": "text"
      },
      "source": [
        "E é claro, também podemos fazer o contrário e usar a ordem descendente para ver os grande números, informando à função o parâmetro `ascending`, que deve ser `True` ou `False`.\n",
        "\n",
        "Quando feito com múltiplas colunas, esse parâmetro também deverá ser uma lista.\n",
        "\n",
        "Nesse caso, percebemos que o curso mais vendido é o de Web Bootcamp. E o curso gratuito com mais inscritos é o de HTML5, com uma quantidade gigante de gente."
      ]
    },
    {
      "cell_type": "code",
      "metadata": {
        "id": "pavdk8KGLbuV",
        "colab_type": "code",
        "colab": {}
      },
      "source": [
        "sort = udemy.sort_values([\"price\", \"num_subscribers\"], ascending = [True, False])\n",
        "sort.head()"
      ],
      "execution_count": 0,
      "outputs": []
    },
    {
      "cell_type": "code",
      "metadata": {
        "id": "hb50LxOcPROr",
        "colab_type": "code",
        "colab": {}
      },
      "source": [
        "sort = udemy.sort_values([\"content_duration\", \"num_subscribers\"], ascending = [False, False])\n",
        "sort.head()"
      ],
      "execution_count": 0,
      "outputs": []
    },
    {
      "cell_type": "markdown",
      "metadata": {
        "id": "-wHauGE4PMsR",
        "colab_type": "text"
      },
      "source": [
        "####**Selecionando colunas**\n",
        "\n",
        "---\n",
        "\n"
      ]
    },
    {
      "cell_type": "markdown",
      "metadata": {
        "id": "9uGv-JkTQknU",
        "colab_type": "text"
      },
      "source": [
        "Para selecionar uma coluna, podemos usar os colchetes."
      ]
    },
    {
      "cell_type": "code",
      "metadata": {
        "id": "xcDjx5R3PPU1",
        "colab_type": "code",
        "colab": {}
      },
      "source": [
        "col_select = udemy[\"course_title\"]\n",
        "col_select.head()"
      ],
      "execution_count": 0,
      "outputs": []
    },
    {
      "cell_type": "markdown",
      "metadata": {
        "id": "KKIDsoT7RLgD",
        "colab_type": "text"
      },
      "source": [
        "Para múltiplas colunas, precisamos mantê-las em um array:"
      ]
    },
    {
      "cell_type": "code",
      "metadata": {
        "id": "8D-hF-chQxRj",
        "colab_type": "code",
        "colab": {}
      },
      "source": [
        "col_select = udemy[[\"course_title\", \"is_paid\"]]\n",
        "col_select.head()"
      ],
      "execution_count": 0,
      "outputs": []
    },
    {
      "cell_type": "markdown",
      "metadata": {
        "id": "cyYVYXZ7Rzw-",
        "colab_type": "text"
      },
      "source": [
        "####**Filtrando e selecionando linhas**\n",
        "\n",
        "---\n"
      ]
    },
    {
      "cell_type": "markdown",
      "metadata": {
        "id": "Ondzo_itUXn3",
        "colab_type": "text"
      },
      "source": [
        "É possível filtrar usando o nome do dataframe e a coluna que quer filtrar, e em seguida, o filtro. "
      ]
    },
    {
      "cell_type": "code",
      "metadata": {
        "id": "8J5MNjCeQ-pA",
        "colab_type": "code",
        "colab": {}
      },
      "source": [
        "row_filter = udemy[udemy[\"is_paid\"] == False]\n",
        "row_filter.head()"
      ],
      "execution_count": 0,
      "outputs": []
    },
    {
      "cell_type": "markdown",
      "metadata": {
        "id": "JlN2qCp3UiVa",
        "colab_type": "text"
      },
      "source": [
        "Uma coisa muito legal é que é possível também filtrar e selecionar as colunas ao mesmo tempo, sem ter que salvar as informações em outras variáveis, dessa forma:"
      ]
    },
    {
      "cell_type": "code",
      "metadata": {
        "id": "urVvI_OaTFxA",
        "colab_type": "code",
        "colab": {}
      },
      "source": [
        "row_filter = udemy[udemy[\"price\"] > 150][[\"price\", \"course_title\"]]\n",
        "row_filter.head()"
      ],
      "execution_count": 0,
      "outputs": []
    },
    {
      "cell_type": "markdown",
      "metadata": {
        "id": "5T7J3lepUxW3",
        "colab_type": "text"
      },
      "source": [
        "Conseguimos, por fim, considerar vários filtros diferentes, usando &."
      ]
    },
    {
      "cell_type": "code",
      "metadata": {
        "id": "rcZOiifaTxzJ",
        "colab_type": "code",
        "colab": {}
      },
      "source": [
        "row_filter = udemy[(udemy[\"price\"] > 150) & (udemy[\"num_subscribers\"] > 5000)]\n",
        "row_filter.head()"
      ],
      "execution_count": 0,
      "outputs": []
    },
    {
      "cell_type": "markdown",
      "metadata": {
        "id": "Ut8azr1OVYWU",
        "colab_type": "text"
      },
      "source": [
        "Misturando tudo, fica uma bagunça! Mas é legal:"
      ]
    },
    {
      "cell_type": "code",
      "metadata": {
        "id": "6Wr7WtEoVN4E",
        "colab_type": "code",
        "colab": {}
      },
      "source": [
        "row_filter = udemy[(udemy[\"price\"] > 150) & (udemy[\"num_subscribers\"] > 5000)][\n",
        "  [\"course_title\", \"price\",\"num_subscribers\"]].sort_values([\"num_subscribers\",\n",
        "    \"price\"], ascending = [False, False])\n",
        "row_filter.head()"
      ],
      "execution_count": 0,
      "outputs": []
    },
    {
      "cell_type": "markdown",
      "metadata": {
        "id": "j1Ok0fdBYWO9",
        "colab_type": "text"
      },
      "source": [
        "Porém, conseguimos simplificar um pouco esse código para deixar mais legível:"
      ]
    },
    {
      "cell_type": "code",
      "metadata": {
        "id": "sNvLZafCV4ku",
        "colab_type": "code",
        "colab": {}
      },
      "source": [
        "price_filter = udemy[\"price\"] > 150\n",
        "sub_filter = udemy[\"num_subscribers\"] > 5000\n",
        "\n",
        "row_filter = udemy[price_filter & sub_filter][[\"course_title\", \"price\",\n",
        "\"num_subscribers\"]].sort_values([\"num_subscribers\", \"price\"], ascending = \n",
        "[False, False])\n",
        "\n",
        "row_filter.head()"
      ],
      "execution_count": 0,
      "outputs": []
    },
    {
      "cell_type": "markdown",
      "metadata": {
        "id": "BFOReoufjHqK",
        "colab_type": "text"
      },
      "source": [
        "####**Filtrando por categorias, o famoso isin**\n",
        "\n",
        "---\n",
        "\n",
        "\n"
      ]
    },
    {
      "cell_type": "code",
      "metadata": {
        "id": "eH21OhcIYtLa",
        "colab_type": "code",
        "colab": {}
      },
      "source": [
        "subject_list = [\"Business Finance\", \"Web Development\"]\n",
        "subject_filter = udemy[\"subject\"].isin(subject_list)\n",
        "result = udemy[subject_filter]\n",
        "\n",
        "result.head()"
      ],
      "execution_count": 0,
      "outputs": []
    },
    {
      "cell_type": "markdown",
      "metadata": {
        "id": "n_EIeGDIuRFr",
        "colab_type": "text"
      },
      "source": [
        "####**Adicionando novas colunas**\n",
        "\n",
        "\n",
        "---\n",
        "\n"
      ]
    },
    {
      "cell_type": "code",
      "metadata": {
        "id": "8iL4HOZrjpvE",
        "colab_type": "code",
        "colab": {
          "base_uri": "https://localhost:8080/",
          "height": 499
        },
        "outputId": "1c70dab4-6577-4786-c3c7-08cf54b97566"
      },
      "source": [
        "udemy[\"review_per_sub\"] = udemy[\"num_reviews\"]/udemy[\"num_subscribers\"]\n",
        "udemy.head()"
      ],
      "execution_count": 25,
      "outputs": [
        {
          "output_type": "execute_result",
          "data": {
            "text/html": [
              "<div>\n",
              "<style scoped>\n",
              "    .dataframe tbody tr th:only-of-type {\n",
              "        vertical-align: middle;\n",
              "    }\n",
              "\n",
              "    .dataframe tbody tr th {\n",
              "        vertical-align: top;\n",
              "    }\n",
              "\n",
              "    .dataframe thead th {\n",
              "        text-align: right;\n",
              "    }\n",
              "</style>\n",
              "<table border=\"1\" class=\"dataframe\">\n",
              "  <thead>\n",
              "    <tr style=\"text-align: right;\">\n",
              "      <th></th>\n",
              "      <th>course_id</th>\n",
              "      <th>course_title</th>\n",
              "      <th>url</th>\n",
              "      <th>is_paid</th>\n",
              "      <th>price</th>\n",
              "      <th>num_subscribers</th>\n",
              "      <th>num_reviews</th>\n",
              "      <th>num_lectures</th>\n",
              "      <th>level</th>\n",
              "      <th>content_duration</th>\n",
              "      <th>published_timestamp</th>\n",
              "      <th>subject</th>\n",
              "      <th>review_per_sub</th>\n",
              "    </tr>\n",
              "  </thead>\n",
              "  <tbody>\n",
              "    <tr>\n",
              "      <th>0</th>\n",
              "      <td>1070968</td>\n",
              "      <td>Ultimate Investment Banking Course</td>\n",
              "      <td>https://www.udemy.com/ultimate-investment-bank...</td>\n",
              "      <td>True</td>\n",
              "      <td>200</td>\n",
              "      <td>2147</td>\n",
              "      <td>23</td>\n",
              "      <td>51</td>\n",
              "      <td>All Levels</td>\n",
              "      <td>1.5</td>\n",
              "      <td>2017-01-18T20:58:58Z</td>\n",
              "      <td>Business Finance</td>\n",
              "      <td>0.010713</td>\n",
              "    </tr>\n",
              "    <tr>\n",
              "      <th>1</th>\n",
              "      <td>1113822</td>\n",
              "      <td>Complete GST Course &amp; Certification - Grow You...</td>\n",
              "      <td>https://www.udemy.com/goods-and-services-tax/</td>\n",
              "      <td>True</td>\n",
              "      <td>75</td>\n",
              "      <td>2792</td>\n",
              "      <td>923</td>\n",
              "      <td>274</td>\n",
              "      <td>All Levels</td>\n",
              "      <td>39.0</td>\n",
              "      <td>2017-03-09T16:34:20Z</td>\n",
              "      <td>Business Finance</td>\n",
              "      <td>0.330587</td>\n",
              "    </tr>\n",
              "    <tr>\n",
              "      <th>2</th>\n",
              "      <td>1006314</td>\n",
              "      <td>Financial Modeling for Business Analysts and C...</td>\n",
              "      <td>https://www.udemy.com/financial-modeling-for-b...</td>\n",
              "      <td>True</td>\n",
              "      <td>45</td>\n",
              "      <td>2174</td>\n",
              "      <td>74</td>\n",
              "      <td>51</td>\n",
              "      <td>Intermediate Level</td>\n",
              "      <td>2.5</td>\n",
              "      <td>2016-12-19T19:26:30Z</td>\n",
              "      <td>Business Finance</td>\n",
              "      <td>0.034039</td>\n",
              "    </tr>\n",
              "    <tr>\n",
              "      <th>3</th>\n",
              "      <td>1210588</td>\n",
              "      <td>Beginner to Pro - Financial Analysis in Excel ...</td>\n",
              "      <td>https://www.udemy.com/complete-excel-finance-c...</td>\n",
              "      <td>True</td>\n",
              "      <td>95</td>\n",
              "      <td>2451</td>\n",
              "      <td>11</td>\n",
              "      <td>36</td>\n",
              "      <td>All Levels</td>\n",
              "      <td>3.0</td>\n",
              "      <td>2017-05-30T20:07:24Z</td>\n",
              "      <td>Business Finance</td>\n",
              "      <td>0.004488</td>\n",
              "    </tr>\n",
              "    <tr>\n",
              "      <th>4</th>\n",
              "      <td>1011058</td>\n",
              "      <td>How To Maximize Your Profits Trading Options</td>\n",
              "      <td>https://www.udemy.com/how-to-maximize-your-pro...</td>\n",
              "      <td>True</td>\n",
              "      <td>200</td>\n",
              "      <td>1276</td>\n",
              "      <td>45</td>\n",
              "      <td>26</td>\n",
              "      <td>Intermediate Level</td>\n",
              "      <td>2.0</td>\n",
              "      <td>2016-12-13T14:57:18Z</td>\n",
              "      <td>Business Finance</td>\n",
              "      <td>0.035266</td>\n",
              "    </tr>\n",
              "  </tbody>\n",
              "</table>\n",
              "</div>"
            ],
            "text/plain": [
              "   course_id  ... review_per_sub\n",
              "0    1070968  ...       0.010713\n",
              "1    1113822  ...       0.330587\n",
              "2    1006314  ...       0.034039\n",
              "3    1210588  ...       0.004488\n",
              "4    1011058  ...       0.035266\n",
              "\n",
              "[5 rows x 13 columns]"
            ]
          },
          "metadata": {
            "tags": []
          },
          "execution_count": 25
        }
      ]
    }
  ]
}